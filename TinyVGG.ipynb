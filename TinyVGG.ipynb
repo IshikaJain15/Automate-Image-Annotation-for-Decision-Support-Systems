{
 "cells": [
  {
   "cell_type": "code",
   "execution_count": 36,
   "id": "66c09091-1b2c-465d-8d48-30adb685de56",
   "metadata": {},
   "outputs": [
    {
     "name": "stdout",
     "output_type": "stream",
     "text": [
      "Requirement already satisfied: tifffile in c:\\programdata\\anaconda3\\lib\\site-packages (2023.4.12)\n",
      "Requirement already satisfied: numpy in c:\\programdata\\anaconda3\\lib\\site-packages (from tifffile) (1.26.4)\n",
      "Requirement already satisfied: opencv-python in c:\\programdata\\anaconda3\\lib\\site-packages (4.9.0.80)\n",
      "Requirement already satisfied: numpy>=1.21.2 in c:\\programdata\\anaconda3\\lib\\site-packages (from opencv-python) (1.26.4)\n",
      "Requirement already satisfied: rasterio in c:\\programdata\\anaconda3\\lib\\site-packages (1.3.9)\n",
      "Requirement already satisfied: affine in c:\\programdata\\anaconda3\\lib\\site-packages (from rasterio) (2.4.0)\n",
      "Requirement already satisfied: attrs in c:\\programdata\\anaconda3\\lib\\site-packages (from rasterio) (23.1.0)\n",
      "Requirement already satisfied: certifi in c:\\programdata\\anaconda3\\lib\\site-packages (from rasterio) (2024.2.2)\n",
      "Requirement already satisfied: click>=4.0 in c:\\programdata\\anaconda3\\lib\\site-packages (from rasterio) (8.1.7)\n",
      "Requirement already satisfied: cligj>=0.5 in c:\\programdata\\anaconda3\\lib\\site-packages (from rasterio) (0.7.2)\n",
      "Requirement already satisfied: numpy in c:\\programdata\\anaconda3\\lib\\site-packages (from rasterio) (1.26.4)\n",
      "Requirement already satisfied: snuggs>=1.4.1 in c:\\programdata\\anaconda3\\lib\\site-packages (from rasterio) (1.4.7)\n",
      "Requirement already satisfied: click-plugins in c:\\programdata\\anaconda3\\lib\\site-packages (from rasterio) (1.1.1)\n",
      "Requirement already satisfied: setuptools in c:\\programdata\\anaconda3\\lib\\site-packages (from rasterio) (68.2.2)\n",
      "Requirement already satisfied: colorama in c:\\programdata\\anaconda3\\lib\\site-packages (from click>=4.0->rasterio) (0.4.6)\n",
      "Requirement already satisfied: pyparsing>=2.1.6 in c:\\programdata\\anaconda3\\lib\\site-packages (from snuggs>=1.4.1->rasterio) (3.0.9)\n",
      "Requirement already satisfied: scipy in c:\\programdata\\anaconda3\\lib\\site-packages (1.11.4)\n",
      "Requirement already satisfied: numpy<1.28.0,>=1.21.6 in c:\\programdata\\anaconda3\\lib\\site-packages (from scipy) (1.26.4)\n",
      "Requirement already satisfied: torchvision in c:\\programdata\\anaconda3\\lib\\site-packages (0.17.1)\n",
      "Requirement already satisfied: numpy in c:\\programdata\\anaconda3\\lib\\site-packages (from torchvision) (1.26.4)\n",
      "Requirement already satisfied: torch==2.2.1 in c:\\programdata\\anaconda3\\lib\\site-packages (from torchvision) (2.2.1)\n",
      "Requirement already satisfied: pillow!=8.3.*,>=5.3.0 in c:\\programdata\\anaconda3\\lib\\site-packages (from torchvision) (10.2.0)\n",
      "Requirement already satisfied: filelock in c:\\programdata\\anaconda3\\lib\\site-packages (from torch==2.2.1->torchvision) (3.13.1)\n",
      "Requirement already satisfied: typing-extensions>=4.8.0 in c:\\programdata\\anaconda3\\lib\\site-packages (from torch==2.2.1->torchvision) (4.9.0)\n",
      "Requirement already satisfied: sympy in c:\\programdata\\anaconda3\\lib\\site-packages (from torch==2.2.1->torchvision) (1.12)\n",
      "Requirement already satisfied: networkx in c:\\programdata\\anaconda3\\lib\\site-packages (from torch==2.2.1->torchvision) (3.1)\n",
      "Requirement already satisfied: jinja2 in c:\\programdata\\anaconda3\\lib\\site-packages (from torch==2.2.1->torchvision) (3.1.3)\n",
      "Requirement already satisfied: fsspec in c:\\programdata\\anaconda3\\lib\\site-packages (from torch==2.2.1->torchvision) (2023.10.0)\n",
      "Requirement already satisfied: MarkupSafe>=2.0 in c:\\programdata\\anaconda3\\lib\\site-packages (from jinja2->torch==2.2.1->torchvision) (2.1.3)\n",
      "Requirement already satisfied: mpmath>=0.19 in c:\\programdata\\anaconda3\\lib\\site-packages (from sympy->torch==2.2.1->torchvision) (1.3.0)\n",
      "Collecting torchmetrics\n",
      "  Downloading torchmetrics-1.3.1-py3-none-any.whl.metadata (19 kB)\n",
      "Requirement already satisfied: numpy>1.20.0 in c:\\programdata\\anaconda3\\lib\\site-packages (from torchmetrics) (1.26.4)\n",
      "Requirement already satisfied: packaging>17.1 in c:\\programdata\\anaconda3\\lib\\site-packages (from torchmetrics) (23.1)\n",
      "Requirement already satisfied: torch>=1.10.0 in c:\\programdata\\anaconda3\\lib\\site-packages (from torchmetrics) (2.2.1)\n",
      "Collecting lightning-utilities>=0.8.0 (from torchmetrics)\n",
      "  Downloading lightning_utilities-0.10.1-py3-none-any.whl.metadata (4.8 kB)\n",
      "Requirement already satisfied: setuptools in c:\\programdata\\anaconda3\\lib\\site-packages (from lightning-utilities>=0.8.0->torchmetrics) (68.2.2)\n",
      "Requirement already satisfied: typing-extensions in c:\\programdata\\anaconda3\\lib\\site-packages (from lightning-utilities>=0.8.0->torchmetrics) (4.9.0)\n",
      "Requirement already satisfied: filelock in c:\\programdata\\anaconda3\\lib\\site-packages (from torch>=1.10.0->torchmetrics) (3.13.1)\n",
      "Requirement already satisfied: sympy in c:\\programdata\\anaconda3\\lib\\site-packages (from torch>=1.10.0->torchmetrics) (1.12)\n",
      "Requirement already satisfied: networkx in c:\\programdata\\anaconda3\\lib\\site-packages (from torch>=1.10.0->torchmetrics) (3.1)\n",
      "Requirement already satisfied: jinja2 in c:\\programdata\\anaconda3\\lib\\site-packages (from torch>=1.10.0->torchmetrics) (3.1.3)\n",
      "Requirement already satisfied: fsspec in c:\\programdata\\anaconda3\\lib\\site-packages (from torch>=1.10.0->torchmetrics) (2023.10.0)\n",
      "Requirement already satisfied: MarkupSafe>=2.0 in c:\\programdata\\anaconda3\\lib\\site-packages (from jinja2->torch>=1.10.0->torchmetrics) (2.1.3)\n",
      "Requirement already satisfied: mpmath>=0.19 in c:\\programdata\\anaconda3\\lib\\site-packages (from sympy->torch>=1.10.0->torchmetrics) (1.3.0)\n",
      "Downloading torchmetrics-1.3.1-py3-none-any.whl (840 kB)\n",
      "   ---------------------------------------- 0.0/840.4 kB ? eta -:--:--\n",
      "   ---------------------------------------- 10.2/840.4 kB ? eta -:--:--\n",
      "   -------- ------------------------------- 174.1/840.4 kB 2.6 MB/s eta 0:00:01\n",
      "   ----------------------- ---------------- 491.5/840.4 kB 4.4 MB/s eta 0:00:01\n",
      "   ---------------------------------------  839.7/840.4 kB 5.3 MB/s eta 0:00:01\n",
      "   ---------------------------------------- 840.4/840.4 kB 4.9 MB/s eta 0:00:00\n",
      "Downloading lightning_utilities-0.10.1-py3-none-any.whl (24 kB)\n",
      "Installing collected packages: lightning-utilities, torchmetrics\n",
      "Successfully installed lightning-utilities-0.10.1 torchmetrics-1.3.1\n"
     ]
    }
   ],
   "source": [
    "!pip install tifffile\n",
    "!pip install opencv-python\n",
    "!pip install rasterio\n",
    "!pip install scipy\n",
    "!pip install torchvision\n",
    "!pip install torchmetrics"
   ]
  },
  {
   "cell_type": "code",
   "execution_count": 1,
   "id": "448e55ca-f5a7-42c0-857d-05146d1b03e1",
   "metadata": {},
   "outputs": [
    {
     "name": "stdout",
     "output_type": "stream",
     "text": [
      "Requirement already satisfied: scikit-image in c:\\programdata\\anaconda3\\lib\\site-packages (0.22.0)\n",
      "Requirement already satisfied: numpy>=1.22 in c:\\programdata\\anaconda3\\lib\\site-packages (from scikit-image) (1.26.4)\n",
      "Requirement already satisfied: scipy>=1.8 in c:\\programdata\\anaconda3\\lib\\site-packages (from scikit-image) (1.11.4)\n",
      "Requirement already satisfied: networkx>=2.8 in c:\\programdata\\anaconda3\\lib\\site-packages (from scikit-image) (3.1)\n",
      "Requirement already satisfied: pillow>=9.0.1 in c:\\programdata\\anaconda3\\lib\\site-packages (from scikit-image) (10.2.0)\n",
      "Requirement already satisfied: imageio>=2.27 in c:\\programdata\\anaconda3\\lib\\site-packages (from scikit-image) (2.33.1)\n",
      "Requirement already satisfied: tifffile>=2022.8.12 in c:\\programdata\\anaconda3\\lib\\site-packages (from scikit-image) (2023.4.12)\n",
      "Requirement already satisfied: packaging>=21 in c:\\programdata\\anaconda3\\lib\\site-packages (from scikit-image) (23.1)\n",
      "Requirement already satisfied: lazy_loader>=0.3 in c:\\programdata\\anaconda3\\lib\\site-packages (from scikit-image) (0.3)\n"
     ]
    }
   ],
   "source": [
    "!pip install --upgrade scikit-image"
   ]
  },
  {
   "cell_type": "code",
   "execution_count": 1,
   "id": "d935b58b-66db-4b10-8a44-c482ad6f80fe",
   "metadata": {},
   "outputs": [],
   "source": [
    "import numpy as np\n",
    "import pandas as pd\n",
    "from skimage import io, img_as_float\n",
    "import os\n",
    "import tifffile\n",
    "import torch \n",
    "import imageio\n",
    "import cv2\n",
    "import matplotlib.pyplot as plt\n",
    "from torchvision.transforms import ToTensor\n",
    "import rasterio\n",
    "from rasterio.plot import show\n",
    "from PIL import Image\n",
    "from torchvision.transforms import ToTensor\n",
    "from PIL import Image\n",
    "import torch\n",
    "from torch.utils.data import DataLoader\n",
    "from torchvision import datasets, transforms\n",
    "import torch\n",
    "import torch.nn as nn\n",
    "import torch.optim as optim\n",
    "from torch.utils.data import DataLoader\n",
    "from torchvision import models, transforms, datasets"
   ]
  },
  {
   "cell_type": "code",
   "execution_count": 1,
   "id": "ce8b7da6-bc72-47dd-851f-adc005a3eda6",
   "metadata": {},
   "outputs": [
    {
     "name": "stdout",
     "output_type": "stream",
     "text": [
      "Requirement already satisfied: mkl in c:\\programdata\\anaconda3\\lib\\site-packages (2024.0.0)\n",
      "Requirement already satisfied: intel-openmp==2024.* in c:\\programdata\\anaconda3\\lib\\site-packages (from mkl) (2024.0.2)\n",
      "Requirement already satisfied: tbb==2021.* in c:\\programdata\\anaconda3\\lib\\site-packages (from mkl) (2021.11.0)\n",
      "Note: you may need to restart the kernel to use updated packages.\n"
     ]
    }
   ],
   "source": [
    "pip install --upgrade mkl"
   ]
  },
  {
   "cell_type": "code",
   "execution_count": 2,
   "id": "b20cbaee-9c46-4e31-b46c-e5c3b171e5bd",
   "metadata": {},
   "outputs": [],
   "source": [
    "#Load in data with PyTorch (switched train and test cause test is bigger)\n",
    "from torchvision import datasets, transforms\n",
    "\n",
    "transform = transforms.Compose([\n",
    "    transforms.Resize((224, 224)),\n",
    "    transforms.Grayscale(num_output_channels=1),\n",
    "    transforms.ToTensor(),\n",
    "])\n",
    "\n",
    "# Load train set\n",
    "train_dataset = datasets.ImageFolder(root='test/organized', transform=transform)\n",
    "\n",
    "# Load test set\n",
    "test_dataset = datasets.ImageFolder(root='train/organized', transform=transform)"
   ]
  },
  {
   "cell_type": "code",
   "execution_count": 3,
   "id": "ffa28002-8b7b-43f8-853c-4dc566dfbd1d",
   "metadata": {},
   "outputs": [
    {
     "name": "stdout",
     "output_type": "stream",
     "text": [
      "Train data:\n",
      "Dataset ImageFolder\n",
      "    Number of datapoints: 8675\n",
      "    Root location: test/organized\n",
      "    StandardTransform\n",
      "Transform: Compose(\n",
      "               Resize(size=(224, 224), interpolation=bilinear, max_size=None, antialias=True)\n",
      "               Grayscale(num_output_channels=1)\n",
      "               ToTensor()\n",
      "           )\n",
      "Test data:\n",
      "Dataset ImageFolder\n",
      "    Number of datapoints: 6950\n",
      "    Root location: train/organized\n",
      "    StandardTransform\n",
      "Transform: Compose(\n",
      "               Resize(size=(224, 224), interpolation=bilinear, max_size=None, antialias=True)\n",
      "               Grayscale(num_output_channels=1)\n",
      "               ToTensor()\n",
      "           )\n"
     ]
    }
   ],
   "source": [
    "print(f\"Train data:\\n{train_dataset}\\nTest data:\\n{test_dataset}\")"
   ]
  },
  {
   "cell_type": "code",
   "execution_count": 4,
   "id": "cdf286c4-3cae-4053-b5bd-4663a05cd119",
   "metadata": {},
   "outputs": [
    {
     "data": {
      "text/plain": [
       "4"
      ]
     },
     "execution_count": 4,
     "metadata": {},
     "output_type": "execute_result"
    }
   ],
   "source": [
    "os.cpu_count()"
   ]
  },
  {
   "cell_type": "code",
   "execution_count": 4,
   "id": "0769d76a-4c8f-4c15-920b-e2cbed848067",
   "metadata": {},
   "outputs": [
    {
     "data": {
      "text/plain": [
       "(<torch.utils.data.dataloader.DataLoader at 0x1a05f9faf90>,\n",
       " <torch.utils.data.dataloader.DataLoader at 0x1a05fa60dd0>)"
      ]
     },
     "execution_count": 4,
     "metadata": {},
     "output_type": "execute_result"
    }
   ],
   "source": [
    "# Turn train and test Datasets into DataLoaders\n",
    "from torch.utils.data import DataLoader\n",
    "train_dataloader = DataLoader(dataset=train_dataset, \n",
    "                              batch_size=10, # how many samples per batch?\n",
    "                              num_workers=os.cpu_count(), # how many subprocesses to use for data loading? (higher = more)\n",
    "                              shuffle=True) # shuffle the data?\n",
    "\n",
    "test_dataloader = DataLoader(dataset=test_dataset, \n",
    "                             batch_size=10, \n",
    "                             num_workers=os.cpu_count(), \n",
    "                             shuffle=False) # don't usually need to shuffle testing data\n",
    "\n",
    "train_dataloader, test_dataloader"
   ]
  },
  {
   "cell_type": "code",
   "execution_count": 5,
   "id": "7036fc82-d110-4988-bb70-114593641eab",
   "metadata": {},
   "outputs": [
    {
     "data": {
      "text/plain": [
       "TinyVGG(\n",
       "  (block_1): Sequential(\n",
       "    (0): Conv2d(1, 10, kernel_size=(3, 3), stride=(1, 1), padding=(1, 1))\n",
       "    (1): ReLU()\n",
       "    (2): Conv2d(10, 10, kernel_size=(3, 3), stride=(1, 1), padding=(1, 1))\n",
       "    (3): ReLU()\n",
       "    (4): MaxPool2d(kernel_size=2, stride=2, padding=0, dilation=1, ceil_mode=False)\n",
       "  )\n",
       "  (block_2): Sequential(\n",
       "    (0): Conv2d(10, 10, kernel_size=(3, 3), stride=(1, 1), padding=(1, 1))\n",
       "    (1): ReLU()\n",
       "    (2): Conv2d(10, 10, kernel_size=(3, 3), stride=(1, 1), padding=(1, 1))\n",
       "    (3): ReLU()\n",
       "    (4): MaxPool2d(kernel_size=2, stride=2, padding=0, dilation=1, ceil_mode=False)\n",
       "  )\n",
       "  (classifier): Sequential(\n",
       "    (0): Flatten(start_dim=1, end_dim=-1)\n",
       "    (1): Linear(in_features=31360, out_features=1, bias=True)\n",
       "    (2): Sigmoid()\n",
       "  )\n",
       ")"
      ]
     },
     "execution_count": 5,
     "metadata": {},
     "output_type": "execute_result"
    }
   ],
   "source": [
    "# Create a convolutional neural network \n",
    "from torch import nn\n",
    "\n",
    "class TinyVGG(nn.Module):\n",
    "    \"\"\"\n",
    "    Model architecture copying TinyVGG from: \n",
    "    https://poloclub.github.io/cnn-explainer/\n",
    "    \"\"\"\n",
    "    def __init__(self, input_shape: int, hidden_units: int, output_shape: int):\n",
    "        super().__init__()\n",
    "        self.block_1 = nn.Sequential(\n",
    "            nn.Conv2d(in_channels=input_shape, \n",
    "                      out_channels=hidden_units, \n",
    "                      kernel_size=3,\n",
    "                      stride=1,\n",
    "                      padding=1),\n",
    "            nn.ReLU(),\n",
    "            nn.Conv2d(in_channels=hidden_units, \n",
    "                      out_channels=hidden_units,\n",
    "                      kernel_size=3,\n",
    "                      stride=1,\n",
    "                      padding=1),\n",
    "            nn.ReLU(),\n",
    "            nn.MaxPool2d(kernel_size=2, stride=2)\n",
    "        )\n",
    "        self.block_2 = nn.Sequential(\n",
    "            nn.Conv2d(hidden_units, hidden_units, 3, padding=1),\n",
    "            nn.ReLU(),\n",
    "            nn.Conv2d(hidden_units, hidden_units, 3, padding=1),\n",
    "            nn.ReLU(),\n",
    "            nn.MaxPool2d(2)\n",
    "        )\n",
    "        self.classifier = nn.Sequential(\n",
    "            nn.Flatten(),\n",
    "            nn.Linear(in_features=hidden_units * 56 * 56,  # Adjusted input size\n",
    "                      out_features=output_shape),\n",
    "            nn.Sigmoid()  # Sigmoid activation for binary classification\n",
    "        )\n",
    "    \n",
    "    def forward(self, x: torch.Tensor):\n",
    "        x = self.block_1(x)\n",
    "        x = self.block_2(x)\n",
    "        x = self.classifier(x.view(x.size(0), -1))\n",
    "        return x\n",
    "\n",
    "torch.manual_seed(42)\n",
    "model_2 = TinyVGG(input_shape=1, hidden_units=10, output_shape=1)\n",
    "model_2\n"
   ]
  },
  {
   "cell_type": "code",
   "execution_count": 12,
   "id": "cbe613a5-e258-4613-9b95-71f3c1a9ad30",
   "metadata": {},
   "outputs": [],
   "source": [
    "# Setup loss and optimizer\n",
    "from torch.nn import BCEWithLogitsLoss\n",
    "\n",
    "loss_fn = loss_fn = BCEWithLogitsLoss()\n",
    "optimizer = torch.optim.SGD(params=model_2.parameters(), \n",
    "                             lr=1)\n",
    "\n",
    "def accuracy_fn(y_true, y_pred):\n",
    "    correct = torch.eq(y_true, y_pred).sum().item() # torch.eq() calculates where two tensors are equal\n",
    "    acc = (correct / len(y_pred)) * 100 \n",
    "    return acc"
   ]
  },
  {
   "cell_type": "code",
   "execution_count": 13,
   "id": "5e94e0c9-5b6f-446b-94bd-3be201d78de2",
   "metadata": {},
   "outputs": [],
   "source": [
    "from torchmetrics.classification import BinaryStatScores\n",
    "\n",
    "def train_step(model, data_loader, loss_fn, optimizer, accuracy_fn):\n",
    "    train_loss = 0\n",
    "    binary_stat_scores = BinaryStatScores()\n",
    "\n",
    "    model.train()\n",
    "    for X, y in data_loader:\n",
    "        y_pred = torch.sigmoid(model(X))\n",
    "        loss = loss_fn(y_pred, y.unsqueeze(1).float())  # Keep unsqueeze for binary classification\n",
    "        train_loss += loss.item()\n",
    "\n",
    "        optimizer.zero_grad()\n",
    "        loss.backward()\n",
    "        optimizer.step()\n",
    "\n",
    "        # Update binary statistics\n",
    "        binary_stat_scores.update(y_pred, y.unsqueeze(1).float())\n",
    "\n",
    "    # Calculate accuracy per epoch and print out\n",
    "    metrics = binary_stat_scores.compute()\n",
    "    print(metrics)\n",
    "\n",
    "def test_step(data_loader, model, loss_fn, accuracy_fn):\n",
    "    test_loss = 0\n",
    "    binary_stat_scores = BinaryStatScores()\n",
    "\n",
    "    model.eval()\n",
    "    with torch.inference_mode():\n",
    "        for X, y in data_loader:\n",
    "            # 1. Forward pass with sigmoid activation for binary classification\n",
    "            test_pred = torch.sigmoid(model(X))\n",
    "\n",
    "            # 2. Calculate loss using binary cross-entropy loss\n",
    "            loss = loss_fn(test_pred, y.unsqueeze(1).float())  # Keep unsqueeze for binary classification\n",
    "            test_loss += loss.item()\n",
    "\n",
    "            # Update binary statistics\n",
    "            binary_stat_scores.update(test_pred, y.unsqueeze(1).float())\n",
    "\n",
    "    # Calculate accuracy and print out\n",
    "    metrics = binary_stat_scores.compute()\n",
    "    print(metrics)\n"
   ]
  },
  {
   "cell_type": "code",
   "execution_count": 14,
   "id": "07a8848c-4c9d-4387-9d77-ca3e67b19c13",
   "metadata": {},
   "outputs": [
    {
     "data": {
      "application/vnd.jupyter.widget-view+json": {
       "model_id": "04ee4c06485d4638a8eb45bf2045ab99",
       "version_major": 2,
       "version_minor": 0
      },
      "text/plain": [
       "  0%|          | 0/3 [00:00<?, ?it/s]"
      ]
     },
     "metadata": {},
     "output_type": "display_data"
    },
    {
     "name": "stdout",
     "output_type": "stream",
     "text": [
      "Epoch: 0\n",
      "---------\n",
      "tensor([ 614, 8061,    0,    0,  614])\n",
      "tensor([ 358, 6592,    0,    0,  358])\n",
      "Epoch: 1\n",
      "---------\n",
      "tensor([ 614, 8061,    0,    0,  614])\n",
      "tensor([ 358, 6592,    0,    0,  358])\n",
      "Epoch: 2\n",
      "---------\n",
      "tensor([ 614, 8061,    0,    0,  614])\n",
      "tensor([ 358, 6592,    0,    0,  358])\n",
      "1384.800298599992\n"
     ]
    }
   ],
   "source": [
    "#Train TinyVGG\n",
    "from tqdm.auto import tqdm\n",
    "from torchmetrics.classification import BinaryAccuracy\n",
    "\n",
    "# Measure time\n",
    "from timeit import default_timer as timer\n",
    "train_time_start_model_2 = timer()\n",
    "\n",
    "# Train and test model \n",
    "epochs = 3\n",
    "for epoch in tqdm(range(epochs)):\n",
    "    print(f\"Epoch: {epoch}\\n---------\")\n",
    "    train_step(data_loader=train_dataloader, \n",
    "        model=model_2, \n",
    "        loss_fn=loss_fn,\n",
    "        optimizer=optimizer,\n",
    "        accuracy_fn=accuracy_fn)\n",
    "    \n",
    "    test_step(data_loader=test_dataloader,\n",
    "        model=model_2,\n",
    "        loss_fn=loss_fn,\n",
    "        accuracy_fn=accuracy_fn)\n",
    "\n",
    "train_time_end_model_2 = timer()\n",
    "print(train_time_end_model_2 - train_time_start_model_2)"
   ]
  },
  {
   "cell_type": "code",
   "execution_count": null,
   "id": "3ad98684-4d0d-40cc-94ac-cfde1f0bbb54",
   "metadata": {},
   "outputs": [],
   "source": [
    "#Transfer learn full VGG16 instead\n"
   ]
  }
 ],
 "metadata": {
  "kernelspec": {
   "display_name": "Python 3 (ipykernel)",
   "language": "python",
   "name": "python3"
  },
  "language_info": {
   "codemirror_mode": {
    "name": "ipython",
    "version": 3
   },
   "file_extension": ".py",
   "mimetype": "text/x-python",
   "name": "python",
   "nbconvert_exporter": "python",
   "pygments_lexer": "ipython3",
   "version": "3.11.7"
  }
 },
 "nbformat": 4,
 "nbformat_minor": 5
}
