{
 "cells": [
  {
   "cell_type": "code",
   "execution_count": 1,
   "id": "e44f9ba4",
   "metadata": {},
   "outputs": [],
   "source": [
    "import numpy as np\n",
    "import pandas as pd\n",
    "import os\n",
    "import tifffile\n",
    "import torch \n",
    "import cv2\n",
    "import matplotlib.pyplot as plt\n",
    "from torchvision.transforms import ToTensor\n",
    "import rasterio\n",
    "from rasterio.plot import show\n",
    "from PIL import Image\n",
    "from utils.data_handlers import *\n",
    "from utils.models import *\n",
    "from sklearn.model_selection import train_test_split\n",
    "import torchvision.transforms.functional as TF\n",
    "from torch.utils.data import Dataset, DataLoader\n",
    "from torchvision import transforms\n",
    "# Example usage\n",
    "import torch\n",
    "import torch.nn as nn\n",
    "import torch.optim as optim\n",
    "from torch.utils.data import DataLoader\n",
    "from torchvision.transforms import transforms\n",
    "from torchvision.datasets import ImageFolder"
   ]
  },
  {
   "cell_type": "code",
   "execution_count": 2,
   "id": "91a5e041",
   "metadata": {},
   "outputs": [
    {
     "name": "stdout",
     "output_type": "stream",
     "text": [
      "CUDA is not available. Using CPU1.\n"
     ]
    }
   ],
   "source": [
    "# Check if CUDA (GPU) is available\n",
    "if torch.cuda.is_available():\n",
    "    device = torch.device(\"cuda\")\n",
    "    print(\"Using GPU:\", torch.cuda.get_device_name(0))\n",
    "else:\n",
    "    device = torch.device(\"cpu\")\n",
    "    print(\"CUDA is not available. Using CPU.\")"
   ]
  },
  {
   "cell_type": "code",
   "execution_count": 2,
   "id": "d5e298b5",
   "metadata": {},
   "outputs": [],
   "source": [
    "train_labels_1, train_artifacts_1= link_label1_to_image('train\\\\image', 'train\\\\label2')\n"
   ]
  },
  {
   "cell_type": "code",
   "execution_count": 3,
   "id": "99bffd21",
   "metadata": {},
   "outputs": [],
   "source": [
    "all_labels_0, all_artifacts_0=link_label0_to_image('No_Artifacts','No_Artifacts_label')\n",
    "\n"
   ]
  },
  {
   "cell_type": "code",
   "execution_count": 4,
   "id": "253335fe",
   "metadata": {},
   "outputs": [],
   "source": [
    "keys = list(all_labels_0.keys())\n",
    "\n",
    "\n",
    "# Split the keys into training and testing sets\n",
    "keys_train, keys_test = train_test_split(keys, test_size=0.2, random_state=42)\n",
    "train_labels_0 = {key: all_labels_0[key] for key in keys_train}\n",
    "train_artifacts_0 = {key: all_artifacts_0[key] for key in keys_train}\n",
    "test_labels_0 = {key: all_labels_0[key] for key in keys_test}\n",
    "test_artifacts_0 = {key: all_artifacts_0[key] for key in keys_test}\n"
   ]
  },
  {
   "cell_type": "code",
   "execution_count": 5,
   "id": "c9461296",
   "metadata": {},
   "outputs": [],
   "source": [
    "train_labels_1.update(train_labels_0)\n",
    "train_labels=train_labels_1\n",
    "train_artifacts_0.update(train_artifacts_1)\n",
    "train_artifacts=train_artifacts_0\n"
   ]
  },
  {
   "cell_type": "code",
   "execution_count": 6,
   "id": "9b0a2466",
   "metadata": {},
   "outputs": [
    {
     "name": "stdout",
     "output_type": "stream",
     "text": [
      "347 347\n"
     ]
    }
   ],
   "source": [
    "print(len(train_labels),len(train_artifacts))"
   ]
  },
  {
   "cell_type": "code",
   "execution_count": 7,
   "id": "8da9d1b1",
   "metadata": {},
   "outputs": [
    {
     "name": "stdout",
     "output_type": "stream",
     "text": [
      "296 296\n"
     ]
    }
   ],
   "source": [
    "test_labels_1, test_artifacts_1=link_label1_to_image('test//image', 'test//label2')\n",
    "print(len(test_labels_1), len(test_artifacts_1))"
   ]
  },
  {
   "cell_type": "code",
   "execution_count": 8,
   "id": "cffdb796",
   "metadata": {},
   "outputs": [
    {
     "name": "stdout",
     "output_type": "stream",
     "text": [
      "347 347\n"
     ]
    }
   ],
   "source": [
    "test_labels_1.update(test_labels_0)\n",
    "test_labels=test_labels_1\n",
    "test_artifacts_0.update(test_artifacts_1)\n",
    "test_artifacts=test_artifacts_0\n",
    "print(len(test_labels),len(test_artifacts))"
   ]
  },
  {
   "cell_type": "code",
   "execution_count": 9,
   "id": "e21681e5",
   "metadata": {},
   "outputs": [],
   "source": [
    "keys = list(train_labels.keys())\n",
    "\n",
    "\n",
    "# Split the keys into training and testing sets\n",
    "\n",
    "keys_train, keys_val = train_test_split(keys, test_size=0.2, random_state=42)\n",
    "train_labels_final = {key: train_labels[key] for key in keys_train}\n",
    "train_artifacts_final = {key: train_artifacts[key] for key in keys_train}\n",
    "val_labels = {key: train_labels[key] for key in keys_val}\n",
    "val_artifacts = {key: train_artifacts[key] for key in keys_val}"
   ]
  },
  {
   "cell_type": "code",
   "execution_count": 10,
   "id": "f704d277",
   "metadata": {},
   "outputs": [
    {
     "data": {
      "text/plain": [
       "70"
      ]
     },
     "execution_count": 10,
     "metadata": {},
     "output_type": "execute_result"
    }
   ],
   "source": [
    "len(val_labels)"
   ]
  },
  {
   "cell_type": "code",
   "execution_count": 10,
   "id": "9a529c4b",
   "metadata": {},
   "outputs": [],
   "source": [
    "output_folder = 'train'\n",
    "train_dict=save_cropped_images_and_labels(train_artifacts_final, output_folder)"
   ]
  },
  {
   "cell_type": "code",
   "execution_count": 13,
   "id": "24212c7a",
   "metadata": {},
   "outputs": [
    {
     "data": {
      "text/plain": [
       "2493"
      ]
     },
     "execution_count": 13,
     "metadata": {},
     "output_type": "execute_result"
    }
   ],
   "source": [
    "len(train_dict)"
   ]
  },
  {
   "cell_type": "code",
   "execution_count": 11,
   "id": "3ed9ae06",
   "metadata": {},
   "outputs": [],
   "source": [
    "output_folder = 'val'\n",
    "val_dict=save_cropped_images_and_labels(val_artifacts, output_folder)"
   ]
  },
  {
   "cell_type": "code",
   "execution_count": 15,
   "id": "06820559",
   "metadata": {},
   "outputs": [
    {
     "data": {
      "text/plain": [
       "630"
      ]
     },
     "execution_count": 15,
     "metadata": {},
     "output_type": "execute_result"
    }
   ],
   "source": [
    "len(val_dict)"
   ]
  },
  {
   "cell_type": "code",
   "execution_count": 12,
   "id": "d3258bad",
   "metadata": {},
   "outputs": [],
   "source": [
    "output_folder = 'test'\n",
    "test_dict=save_cropped_images_and_labels(test_artifacts, output_folder)"
   ]
  },
  {
   "cell_type": "code",
   "execution_count": 15,
   "id": "4355f0dc",
   "metadata": {},
   "outputs": [
    {
     "data": {
      "text/plain": [
       "3123"
      ]
     },
     "execution_count": 15,
     "metadata": {},
     "output_type": "execute_result"
    }
   ],
   "source": [
    "len(test_dict)"
   ]
  },
  {
   "cell_type": "code",
   "execution_count": 13,
   "id": "8f6712b3",
   "metadata": {},
   "outputs": [],
   "source": [
    "\n",
    "\n",
    "train_data = CustomDataset(train_dict)\n",
    "test_data = CustomDataset(test_dict)\n",
    "val_data = CustomDataset(val_dict)\n"
   ]
  },
  {
   "cell_type": "code",
   "execution_count": 14,
   "id": "a9c6ebcc",
   "metadata": {},
   "outputs": [],
   "source": [
    "\n",
    "train_loader = DataLoader(train_data, batch_size=64, shuffle=True)\n",
    "val_loader = DataLoader(val_data, batch_size=64, shuffle=True)\n",
    "test_loader = DataLoader(test_data, batch_size=len(test_data), shuffle=False)\n"
   ]
  },
  {
   "cell_type": "code",
   "execution_count": 15,
   "id": "2b2814c1",
   "metadata": {},
   "outputs": [],
   "source": [
    "model = UNet(in_channels=1, out_channels=2)  # Assuming input grayscale images and 2 classes (background and artifacts)\n",
    "criterion = nn.CrossEntropyLoss()\n",
    "optimizer = optim.Adam(model.parameters(), lr=0.001)\n",
    "\n",
    "# Training\n",
    "train_model(model, train_loader, val_loader, criterion, optimizer,num_epochs=25,model_save_path='best_train_model.pth')\n",
    "model_path='best_train_model.pth'\n",
    "test_model(model_path, test_loader, criterion, optimizer, output_folder='test_output')\n"
   ]
  }
 ],
 "metadata": {
  "kernelspec": {
   "display_name": "Python 3 (ipykernel)",
   "language": "python",
   "name": "python3"
  },
  "language_info": {
   "codemirror_mode": {
    "name": "ipython",
    "version": 3
   },
   "file_extension": ".py",
   "mimetype": "text/x-python",
   "name": "python",
   "nbconvert_exporter": "python",
   "pygments_lexer": "ipython3",
   "version": "3.11.8"
  }
 },
 "nbformat": 4,
 "nbformat_minor": 5
}
